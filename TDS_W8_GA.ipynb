{
  "nbformat": 4,
  "nbformat_minor": 0,
  "metadata": {
    "colab": {
      "provenance": [],
      "authorship_tag": "ABX9TyOUwItF0aOedTnjLUybnO63",
      "include_colab_link": true
    },
    "kernelspec": {
      "name": "python3",
      "display_name": "Python 3"
    },
    "language_info": {
      "name": "python"
    }
  },
  "cells": [
    {
      "cell_type": "markdown",
      "metadata": {
        "id": "view-in-github",
        "colab_type": "text"
      },
      "source": [
        "<a href=\"https://colab.research.google.com/github/sampriti-sr/Stream-Lit/blob/main/TDS_W8_GA.ipynb\" target=\"_parent\"><img src=\"https://colab.research.google.com/assets/colab-badge.svg\" alt=\"Open In Colab\"/></a>"
      ]
    },
    {
      "cell_type": "markdown",
      "source": [
        "Largest among three numbers"
      ],
      "metadata": {
        "id": "uLI8iYux7hqf"
      }
    },
    {
      "cell_type": "code",
      "source": [
        "import streamlit as st"
      ],
      "metadata": {
        "id": "MXE_RGel7og5"
      },
      "execution_count": null,
      "outputs": []
    },
    {
      "cell_type": "markdown",
      "source": [
        "Code for the above"
      ],
      "metadata": {
        "id": "oATluq_S7rfE"
      }
    },
    {
      "cell_type": "code",
      "source": [
        "@st.cache\n",
        "def largest_among_three(a, b, c):\n",
        "    if a > b and a > c:\n",
        "        return a\n",
        "    elif b > a and b > c:\n",
        "        return b\n",
        "    else:\n",
        "        return c\n",
        "\n",
        "def app():\n",
        "    st.title('Largest Among Three')\n",
        "    st.write('Enter three numbers to find the largest among them:')\n",
        "    a = st.number_input('Enter the first number')\n",
        "    b = st.number_input('Enter the second number')\n",
        "    c = st.number_input('Enter the third number')\n",
        "    if st.button('Find Largest'):\n",
        "        largest = largest_among_three(a, b, c)\n",
        "        st.success(f'The largest among {a}, {b}, and {c} is {largest}')"
      ],
      "metadata": {
        "id": "Tz0jBeo770ne"
      },
      "execution_count": null,
      "outputs": []
    },
    {
      "cell_type": "markdown",
      "source": [
        "Run StreamLit"
      ],
      "metadata": {
        "id": "oWpkUYRX72ZS"
      }
    },
    {
      "cell_type": "code",
      "source": [
        "if __name__ == '__main__':\n",
        "    app()"
      ],
      "metadata": {
        "id": "Rzw0GgKz77W9"
      },
      "execution_count": null,
      "outputs": []
    },
    {
      "cell_type": "markdown",
      "source": [],
      "metadata": {
        "id": "VdcVDzbqIqyJ"
      }
    }
  ]
}